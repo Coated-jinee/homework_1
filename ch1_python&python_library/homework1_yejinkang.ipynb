{
 "cells": [
  {
   "cell_type": "markdown",
   "id": "3adb412f-e0bd-4d8a-bc0e-69647b60993f",
   "metadata": {},
   "source": [
    "### **1. 숫자맞추기 게임**\n",
    "이 과제에서는 파이썬 프로그래밍 언어를 활용하여 숫자 맞추기 게임을 만드는 것이 목표입니다. 숫자 맞추기 게임은 컴퓨터가 생각한 숫자를 맞추는 게임으로, 플레이어는 숫자를 입력하고 컴퓨터가 생각한 숫자와 비교하여 “작다\" 혹은 \"크다\" 힌트를 받아가며 숫자를 맞추는 게임입니다.\n",
    "\n",
    "#### **과제 내용**\n",
    "1. 플레이어와 컴퓨터가 참여하는 숫자맞추기 게임을 만드세요.\n",
    "2. 프로그램은 다음과 같은 기능을 포함해야 합니다.\n",
    "   - 컴퓨터는 1부터 10 사이의 랜덤한 숫자를 생성합니다.\n",
    "   - 플레이어는 숫자를 입력하고, 입력한 숫자가 큰지 작은지 힌트를 얻습니다.\n",
    "   - 플레이어가 숫자를 맞힐 때 까지 위 과정을 반복합니다"
   ]
  },
  {
   "cell_type": "markdown",
   "id": "671e670d-e1be-47bc-a3ce-0d85ee761ddb",
   "metadata": {},
   "source": [
    "#### **과제 추론**\n",
    "- **'random' 모듈을 사용하여 숫자를 생성하기:** random 모듈 학습\n",
    "- **'input()' 으로 사용자의 입력을 받기**\n",
    "- **숫자를 맞추기 전까지 반복하기:** 반복문 중 어느 것을 써야 하는지 선택"
   ]
  },
  {
   "cell_type": "code",
   "execution_count": 1,
   "id": "4629a83d-97cf-4a21-9a3e-a7b394f668ee",
   "metadata": {},
   "outputs": [],
   "source": [
    "import random"
   ]
  },
  {
   "cell_type": "code",
   "execution_count": 4,
   "id": "bdc1a412-d26a-41cf-b8ce-d8cc2db7ae7c",
   "metadata": {},
   "outputs": [
    {
     "name": "stdin",
     "output_type": "stream",
     "text": [
      "1 부터 10 사이의 랜덤 숫자를 입력하세요. 1\n"
     ]
    },
    {
     "name": "stdout",
     "output_type": "stream",
     "text": [
      "힌트 제공: 1 보다 큰 숫자입니다.\n"
     ]
    },
    {
     "name": "stdin",
     "output_type": "stream",
     "text": [
      "1부터 10 사이의 랜덤 숫자를 입력하세요. 5\n"
     ]
    },
    {
     "name": "stdout",
     "output_type": "stream",
     "text": [
      "힌트 제공: 5 보다 작은 숫자입니다.\n"
     ]
    },
    {
     "name": "stdin",
     "output_type": "stream",
     "text": [
      "1부터 10 사이의 랜덤 숫자를 입력하세요. 3\n"
     ]
    },
    {
     "name": "stdout",
     "output_type": "stream",
     "text": [
      "힌트 제공: 3 보다 큰 숫자입니다.\n"
     ]
    },
    {
     "name": "stdin",
     "output_type": "stream",
     "text": [
      "1부터 10 사이의 랜덤 숫자를 입력하세요. 4\n"
     ]
    },
    {
     "name": "stdout",
     "output_type": "stream",
     "text": [
      "정답입니다.\n"
     ]
    }
   ],
   "source": [
    "random_number = random.randint(1, 10) #랜덤 모듈의 randint() 함수를 사용하여 1부터 10사이의 랜덤 숫자를 넣어주었습니다.\n",
    "user_input = int(input(\"1 부터 10 사이의 랜덤 숫자를 입력하세요.\")) #유저에게 숫자 입력을 받았고, 뒤에서 연산자로 비교하는 부분이 필요해서 int로 변환하였습니다.\n",
    "\n",
    "while random_number != user_input:\n",
    "   if user_input < random_number: \n",
    "       print(f\"힌트 제공: {user_input} 보다 큰 숫자입니다.\")\n",
    "       user_input = int(input(\"1부터 10 사이의 랜덤 숫자를 입력하세요.\"))\n",
    "   else:\n",
    "       print(f\"힌트 제공: {user_input} 보다 작은 숫자입니다.\")\n",
    "       user_input = int(input(\"1부터 10 사이의 랜덤 숫자를 입력하세요.\"))\n",
    "\n",
    "print(\"정답입니다.\")"
   ]
  },
  {
   "cell_type": "markdown",
   "id": "9809c3a7-4ba8-46df-83bb-3f83fe63b306",
   "metadata": {},
   "source": [
    "#### **구현 설명**\n",
    "**'입력숫자'** 와 **'랜덤숫자'** 가 일치하는 동안만 반복하겠다 라서 while 조건문을 사용하였습니다.\n",
    "반복은 입력숫자와 랜덤숫자가 일치하지 않는 동안만 반복문이 돌아가야하므로, random_number != user_input: 을 넣었습니다.\n",
    "\n",
    "**힌트:** 유저가 입력한 숫자에 대해 구체적인 힌트를 제공하였습니다. 유저의 입력값을 계속 확인 시켜 주면서,\n",
    "**사용자가 이전에 입력했던 값을 기억하지 못하고 같은 숫자를 입력하는 실수를 방지** 하고, 사용자가 입력한 숫자를 기준으로 **다음에 시도할 숫자를 쉽게 좁힐 수 있어 더 적은 시도로 정답에 도달** 할 수 있게 했습니다."
   ]
  },
  {
   "cell_type": "code",
   "execution_count": null,
   "id": "6ea2febb-128e-487d-adc9-7dd7b856e7d3",
   "metadata": {},
   "outputs": [],
   "source": []
  }
 ],
 "metadata": {
  "kernelspec": {
   "display_name": "Python 3 (ipykernel)",
   "language": "python",
   "name": "python3"
  },
  "language_info": {
   "codemirror_mode": {
    "name": "ipython",
    "version": 3
   },
   "file_extension": ".py",
   "mimetype": "text/x-python",
   "name": "python",
   "nbconvert_exporter": "python",
   "pygments_lexer": "ipython3",
   "version": "3.11.7"
  }
 },
 "nbformat": 4,
 "nbformat_minor": 5
}
