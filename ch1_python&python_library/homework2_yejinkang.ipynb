{
 "cells": [
  {
   "cell_type": "markdown",
   "id": "80439ee1-5135-4114-a4e9-1e801855ea8b",
   "metadata": {},
   "source": [
    "### **2. 클래스와 함수 사용하기**\n",
    "이 과제는 간단한 Python Class 활용 문제입니다.\n",
    "처음 공부하시는 분들은 개념이나 활용 방법이 헷갈릴 수도 있으므로, 앞서 공부한 내용 복습 및 추가 학습을 하면서 진행해주세요.\n",
    "\n",
    "#### **과제 내용**\n",
    "- 이름, 성별, 나이를 입력받고, 이를 출력하는 프로그램을 작성해주세요.\n",
    "\n",
    "#### **처리 조건**\n",
    "\n",
    "- **클래스 정의**\n",
    "  - Person이라는 이름의 클래스를 정의한다.\n",
    "- **멤버 변수**\n",
    "    - name, gender, age라는 멤버 변수를 설정한다.\n",
    "    - 각 변수는 객체가 생성될 때 초기화된다.\n",
    "      - name: 이름을 저장하는 변수 (문자열)\n",
    "      - gender: 성별을 저장하는 변수 (문자열, \"male\" 또는 \"female\")\n",
    "      - age: 나이를 저장하는 변수(정수형)\n",
    " - **생성자**\n",
    "   - 생성자 __init__를 통해 객체 생성 시 이름, 성별, 나이를 초기화한다.\n",
    "   - 매개변수로 이름(name), 성별(gender), 나이(age)를 받는다.\n",
    "- **정보를 출력하는 함수** display()\n",
    "  - name, gender, age 값을 출력하는 기능을 구현한다.\n",
    "  - 이름과 성별은 같은 행에 출력하고, 나이는 다음 행에 출력한다.\n",
    "- **입력 및 출력**\n",
    "  - 사용자로부터 나이, 이름, 성별을 각각 입력받는다.\n",
    "  - 입력된 값을 바탕으로 Person 객체를 생성하고, display() 함수를 통해 객체의 정보를 출력한다.\n",
    "  "
   ]
  },
  {
   "cell_type": "code",
   "execution_count": null,
   "id": "14803384-7119-429e-893d-84b948964e51",
   "metadata": {},
   "outputs": [],
   "source": [
    "# # display() 함수는 jupyter notebook 환경의 내장 함수이다.\n",
    "# 파이썬에서  쓰려면 설치 해야한다\n",
    "# pip install ipython"
   ]
  },
  {
   "cell_type": "code",
   "execution_count": 1,
   "id": "bca53dba-b261-4727-85ff-c8e80374fb01",
   "metadata": {},
   "outputs": [],
   "source": [
    "from IPython.display import display"
   ]
  },
  {
   "cell_type": "code",
   "execution_count": 3,
   "id": "91fe3bb6-9796-437d-bec4-ced1bc50a637",
   "metadata": {},
   "outputs": [],
   "source": [
    "class Person:\n",
    "    def __init__(self, name, gender, age):\n",
    "        self.name = name # 사용자 이름\n",
    "        self.gender = gender #사용자 성별\n",
    "        self.age = age #사용자 나이\n",
    "    def display(self):\n",
    "        print(f'이름:{self.name}, 성별:{self.gender}')\n",
    "        print(f'나이: {self.age}')"
   ]
  },
  {
   "cell_type": "code",
   "execution_count": 2,
   "id": "5d34a6d8-c6ce-4a07-9209-b47370160dbf",
   "metadata": {},
   "outputs": [
    {
     "name": "stdin",
     "output_type": "stream",
     "text": [
      "이름을 입력하세요. 강예진\n",
      "성별(male,female)을 입력하세요. female\n",
      "나이를 입력하세요(숫자만). 30\n"
     ]
    }
   ],
   "source": [
    "name = input(\"이름을 입력하세요.\")\n",
    "gender = input(\"성별(male,female)을 입력하세요.\")\n",
    "age = int(input(\"나이를 입력하세요(숫자만).\"))"
   ]
  },
  {
   "cell_type": "code",
   "execution_count": 4,
   "id": "d8c092d9-3f65-4333-8197-cb532fdd0dce",
   "metadata": {},
   "outputs": [
    {
     "name": "stdout",
     "output_type": "stream",
     "text": [
      "이름:강예진, 성별:female\n",
      "나이: 30\n"
     ]
    }
   ],
   "source": [
    "user = Person(name, gender, age)\n",
    "user.display()"
   ]
  },
  {
   "cell_type": "markdown",
   "id": "c3d01e3a-1d64-4137-a4ef-8122991de881",
   "metadata": {},
   "source": [
    "#### **구현 설명**\n",
    "**1. Calss 정의:** Class 공부를 많이 했습니다. Class 자체가 복잡했는데, 강의에서 들어주는 예시로는 이해가 되지 않길래, 제가 좋아하는 MMORPG를 예시로 해서 클래스를 넓게 이해했더니 (캐릭터 클래스,아이템 클래스, 몬스터 클래스) class Person의 **속성**을 정의하는 데에는 어려움이 없었습니다. 어려웠던 건 출력하는 메서드를 작성할 때 display() 함수가 생소 했고 **이름과 성별은 같은 행에 출력하고, 나이는 다음 행에 출력한다.** 라는 부분이 무슨 말인지 이해를 처음에 못하다가 출력 예시를 보고, print 문을 각각 쓰면 되겠구나 해서 이렇게 구현하게 되었습니다. \n",
    "\n",
    "**2. User에게 값을 입력 받는 부분:** 이 부분은 input을 사용하여 유저에게 값을 입력받았고, age는 int로 받고 싶어서, 안내메시지에 숫자만 입력하라는 정보를 기입하였습니다.\n",
    "\n",
    "**3. 출력부분:** Class를 정의하는건 어렵지 않았는데, 출력에서 좀 어려웠습니다. 제가 함수를 만드는것과 만든 함수를 호출하는 부분을 잘 못하는데 이것도 같은 맥락이라 헤맸습니다.\n",
    "조금 차근차근 함수를 만드는 부분을 다시 공부하고, 이 부분을 다시 구현하였습니다. "
   ]
  },
  {
   "cell_type": "code",
   "execution_count": null,
   "id": "6afc0e84-ee17-4128-b6d7-3d37ec4765a1",
   "metadata": {},
   "outputs": [],
   "source": []
  }
 ],
 "metadata": {
  "kernelspec": {
   "display_name": "Python 3 (ipykernel)",
   "language": "python",
   "name": "python3"
  },
  "language_info": {
   "codemirror_mode": {
    "name": "ipython",
    "version": 3
   },
   "file_extension": ".py",
   "mimetype": "text/x-python",
   "name": "python",
   "nbconvert_exporter": "python",
   "pygments_lexer": "ipython3",
   "version": "3.11.7"
  }
 },
 "nbformat": 4,
 "nbformat_minor": 5
}
